{
 "cells": [
  {
   "cell_type": "code",
   "execution_count": 1,
   "metadata": {},
   "outputs": [],
   "source": [
    "import csv"
   ]
  },
  {
   "cell_type": "code",
   "execution_count": 2,
   "metadata": {},
   "outputs": [],
   "source": [
    "MonthlySales = []"
   ]
  },
  {
   "cell_type": "code",
   "execution_count": 3,
   "metadata": {},
   "outputs": [],
   "source": [
    "with open('data/MonthlySales.csv', 'r') as f:\n",
    "    reader = csv.DictReader(f)\n",
    "    for row in reader:\n",
    "        MonthlySales.append(row)"
   ]
  },
  {
   "cell_type": "code",
   "execution_count": 6,
   "metadata": {},
   "outputs": [
    {
     "name": "stdout",
     "output_type": "stream",
     "text": [
      "OrderedDict([('month', '2013-01-01'), ('sales', '14236.90')])\n",
      "OrderedDict([('month', '2013-02-01'), ('sales', '4519.89')])\n",
      "OrderedDict([('month', '2013-03-01'), ('sales', '55691.01')])\n",
      "OrderedDict([('month', '2013-04-01'), ('sales', '28295.35')])\n",
      "OrderedDict([('month', '2013-05-01'), ('sales', '23648.29')])\n",
      "OrderedDict([('month', '2013-06-01'), ('sales', '34595.13')])\n",
      "OrderedDict([('month', '2013-07-01'), ('sales', '33946.39')])\n",
      "OrderedDict([('month', '2013-08-01'), ('sales', '27909.47')])\n",
      "OrderedDict([('month', '2013-09-01'), ('sales', '81777.35')])\n",
      "OrderedDict([('month', '2013-10-01'), ('sales', '31453.39')])\n",
      "OrderedDict([('month', '2013-11-01'), ('sales', '78628.72')])\n",
      "OrderedDict([('month', '2013-12-01'), ('sales', '69545.62')])\n",
      "OrderedDict([('month', '2014-01-01'), ('sales', '18174.08')])\n",
      "OrderedDict([('month', '2014-02-01'), ('sales', '11951.41')])\n",
      "OrderedDict([('month', '2014-03-01'), ('sales', '38726.25')])\n",
      "OrderedDict([('month', '2014-04-01'), ('sales', '34195.21')])\n",
      "OrderedDict([('month', '2014-05-01'), ('sales', '30131.69')])\n",
      "OrderedDict([('month', '2014-06-01'), ('sales', '24797.29')])\n",
      "OrderedDict([('month', '2014-07-01'), ('sales', '28765.33')])\n",
      "OrderedDict([('month', '2014-08-01'), ('sales', '36898.33')])\n",
      "OrderedDict([('month', '2014-09-01'), ('sales', '64595.92')])\n",
      "OrderedDict([('month', '2014-10-01'), ('sales', '31404.92')])\n",
      "OrderedDict([('month', '2014-11-01'), ('sales', '75972.56')])\n",
      "OrderedDict([('month', '2014-12-01'), ('sales', '74919.52')])\n",
      "OrderedDict([('month', '2015-01-01'), ('sales', '18542.49')])\n",
      "OrderedDict([('month', '2015-02-01'), ('sales', '22867.71')])\n",
      "OrderedDict([('month', '2015-03-01'), ('sales', '51186.22')])\n",
      "OrderedDict([('month', '2015-04-01'), ('sales', '39248.59')])\n",
      "OrderedDict([('month', '2015-05-01'), ('sales', '56691.08')])\n",
      "OrderedDict([('month', '2015-06-01'), ('sales', '39430.44')])\n",
      "OrderedDict([('month', '2015-07-01'), ('sales', '38440.76')])\n",
      "OrderedDict([('month', '2015-08-01'), ('sales', '33265.56')])\n",
      "OrderedDict([('month', '2015-09-01'), ('sales', '72908.11')])\n",
      "OrderedDict([('month', '2015-10-01'), ('sales', '56463.13')])\n",
      "OrderedDict([('month', '2015-11-01'), ('sales', '82192.32')])\n",
      "OrderedDict([('month', '2015-12-01'), ('sales', '97237.42')])\n",
      "OrderedDict([('month', '2016-01-01'), ('sales', '44703.14')])\n",
      "OrderedDict([('month', '2016-02-01'), ('sales', '20301.13')])\n",
      "OrderedDict([('month', '2016-03-01'), ('sales', '58872.35')])\n",
      "OrderedDict([('month', '2016-04-01'), ('sales', '36521.54')])\n",
      "OrderedDict([('month', '2016-05-01'), ('sales', '44261.11')])\n",
      "OrderedDict([('month', '2016-06-01'), ('sales', '52981.73')])\n",
      "OrderedDict([('month', '2016-07-01'), ('sales', '45264.42')])\n",
      "OrderedDict([('month', '2016-08-01'), ('sales', '63120.89')])\n",
      "OrderedDict([('month', '2016-09-01'), ('sales', '87866.65')])\n",
      "OrderedDict([('month', '2016-10-01'), ('sales', '77776.92')])\n",
      "OrderedDict([('month', '2016-11-01'), ('sales', '118447.83')])\n",
      "OrderedDict([('month', '2016-12-01'), ('sales', '83829.32')])\n"
     ]
    }
   ],
   "source": [
    "#print every row in csv\n",
    "for a in MonthlySales:\n",
    "    print (a)"
   ]
  },
  {
   "cell_type": "code",
   "execution_count": 8,
   "metadata": {},
   "outputs": [
    {
     "name": "stdout",
     "output_type": "stream",
     "text": [
      "odict_keys(['month', 'sales'])\n",
      "odict_keys(['month', 'sales'])\n",
      "odict_keys(['month', 'sales'])\n",
      "odict_keys(['month', 'sales'])\n",
      "odict_keys(['month', 'sales'])\n",
      "odict_keys(['month', 'sales'])\n",
      "odict_keys(['month', 'sales'])\n",
      "odict_keys(['month', 'sales'])\n",
      "odict_keys(['month', 'sales'])\n",
      "odict_keys(['month', 'sales'])\n",
      "odict_keys(['month', 'sales'])\n",
      "odict_keys(['month', 'sales'])\n",
      "odict_keys(['month', 'sales'])\n",
      "odict_keys(['month', 'sales'])\n",
      "odict_keys(['month', 'sales'])\n",
      "odict_keys(['month', 'sales'])\n",
      "odict_keys(['month', 'sales'])\n",
      "odict_keys(['month', 'sales'])\n",
      "odict_keys(['month', 'sales'])\n",
      "odict_keys(['month', 'sales'])\n",
      "odict_keys(['month', 'sales'])\n",
      "odict_keys(['month', 'sales'])\n",
      "odict_keys(['month', 'sales'])\n",
      "odict_keys(['month', 'sales'])\n",
      "odict_keys(['month', 'sales'])\n",
      "odict_keys(['month', 'sales'])\n",
      "odict_keys(['month', 'sales'])\n",
      "odict_keys(['month', 'sales'])\n",
      "odict_keys(['month', 'sales'])\n",
      "odict_keys(['month', 'sales'])\n",
      "odict_keys(['month', 'sales'])\n",
      "odict_keys(['month', 'sales'])\n",
      "odict_keys(['month', 'sales'])\n",
      "odict_keys(['month', 'sales'])\n",
      "odict_keys(['month', 'sales'])\n",
      "odict_keys(['month', 'sales'])\n",
      "odict_keys(['month', 'sales'])\n",
      "odict_keys(['month', 'sales'])\n",
      "odict_keys(['month', 'sales'])\n",
      "odict_keys(['month', 'sales'])\n",
      "odict_keys(['month', 'sales'])\n",
      "odict_keys(['month', 'sales'])\n",
      "odict_keys(['month', 'sales'])\n",
      "odict_keys(['month', 'sales'])\n",
      "odict_keys(['month', 'sales'])\n",
      "odict_keys(['month', 'sales'])\n",
      "odict_keys(['month', 'sales'])\n",
      "odict_keys(['month', 'sales'])\n"
     ]
    }
   ],
   "source": [
    "#print keys\n",
    "for a in MonthlySales:\n",
    "    print (a.keys())"
   ]
  },
  {
   "cell_type": "code",
   "execution_count": 9,
   "metadata": {},
   "outputs": [
    {
     "ename": "SyntaxError",
     "evalue": "Missing parentheses in call to 'print'. Did you mean print(key + \": \", value)? (<ipython-input-9-dd4847ae8caa>, line 4)",
     "output_type": "error",
     "traceback": [
      "\u001b[1;36m  File \u001b[1;32m\"<ipython-input-9-dd4847ae8caa>\"\u001b[1;36m, line \u001b[1;32m4\u001b[0m\n\u001b[1;33m    print key + \": \", value\u001b[0m\n\u001b[1;37m            ^\u001b[0m\n\u001b[1;31mSyntaxError\u001b[0m\u001b[1;31m:\u001b[0m Missing parentheses in call to 'print'. Did you mean print(key + \": \", value)?\n"
     ]
    }
   ],
   "source": [
    "#print keys and values\n",
    "for a in MonthlySales:\n",
    "    for key, value in a.items():\n",
    "        print (key + \": \", value\n",
    "    print '\\n'"
   ]
  },
  {
   "cell_type": "code",
   "execution_count": null,
   "metadata": {
    "collapsed": true
   },
   "outputs": [],
   "source": []
  }
 ],
 "metadata": {
  "kernelspec": {
   "display_name": "Python 3",
   "language": "python",
   "name": "python3"
  },
  "language_info": {
   "codemirror_mode": {
    "name": "ipython",
    "version": 3
   },
   "file_extension": ".py",
   "mimetype": "text/x-python",
   "name": "python",
   "nbconvert_exporter": "python",
   "pygments_lexer": "ipython3",
   "version": "3.6.8"
  }
 },
 "nbformat": 4,
 "nbformat_minor": 2
}
