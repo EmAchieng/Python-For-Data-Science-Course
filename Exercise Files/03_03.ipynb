{
 "cells": [
  {
   "cell_type": "code",
   "execution_count": null,
   "metadata": {},
   "outputs": [],
   "source": [
    "# Start by importing our libraries\n",
    "%matplotlib inline\n",
    "from ggplot import *\n",
    "import pandas as pd\n",
    "import numpy as np"
   ]
  },
  {
   "cell_type": "code",
   "execution_count": null,
   "metadata": {
    "scrolled": false
   },
   "outputs": [],
   "source": [
    "# Let's start w/ a scatterplot\n",
    "ggplot(aes(x='carat', y='price'), data=diamonds) + geom_point()"
   ]
  },
  {
   "cell_type": "code",
   "execution_count": null,
   "metadata": {},
   "outputs": [],
   "source": [
    "# Now let's add a color\n",
    "ggplot(aes(x='carat', y='price', color='clarity'), data=diamonds) + geom_point()"
   ]
  },
  {
   "cell_type": "code",
   "execution_count": null,
   "metadata": {},
   "outputs": [],
   "source": [
    "# Use color brewer for better options\n",
    "# Start with a sequential color range\n",
    "ggplot(aes(x='carat', y='price', color='clarity'), data=diamonds) + \\\n",
    "    geom_point() + \\\n",
    "    scale_color_brewer(type='seq', palette='Reds')"
   ]
  },
  {
   "cell_type": "code",
   "execution_count": null,
   "metadata": {},
   "outputs": [],
   "source": [
    "# Let's try a diverging color palette\n",
    "ggplot(aes(x='carat', y='price', color='clarity'), data=diamonds) + \\\n",
    "    geom_point() + \\\n",
    "    scale_color_brewer(type='div', palette=2)"
   ]
  },
  {
   "cell_type": "code",
   "execution_count": null,
   "metadata": {
    "scrolled": false
   },
   "outputs": [],
   "source": [
    "# Lastly, try a qualitative palette\n",
    "ggplot(aes(x='carat', y='price', color='clarity'), data=diamonds) +\\\n",
    "    geom_point() +\\\n",
    "    scale_color_brewer(type='qual')"
   ]
  },
  {
   "cell_type": "markdown",
   "metadata": {
    "collapsed": true
   },
   "source": [
    "### *view more at [http://colorbrewer2.org/](http://colorbrewer2.org/)*"
   ]
  }
 ],
 "metadata": {
  "anaconda-cloud": {},
  "kernelspec": {
   "display_name": "Python 2",
   "language": "python",
   "name": "python2"
  },
  "language_info": {
   "codemirror_mode": {
    "name": "ipython",
    "version": 2
   },
   "file_extension": ".py",
   "mimetype": "text/x-python",
   "name": "python",
   "nbconvert_exporter": "python",
   "pygments_lexer": "ipython2",
   "version": "2.7.13"
  }
 },
 "nbformat": 4,
 "nbformat_minor": 1
}
